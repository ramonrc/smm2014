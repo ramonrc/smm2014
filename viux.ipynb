{
 "metadata": {
  "name": "",
  "signature": "sha256:bbddbc0cc70e1fef8067471c43b0f8379649c723d782b8db995654450b776fc9"
 },
 "nbformat": 3,
 "nbformat_minor": 0,
 "worksheets": [
  {
   "cells": [
    {
     "cell_type": "code",
     "collapsed": false,
     "input": [
      "from dionysus import *"
     ],
     "language": "python",
     "metadata": {},
     "outputs": [],
     "prompt_number": 1
    },
    {
     "cell_type": "code",
     "collapsed": false,
     "input": [
      "points = [p for p in points_file('/home/ubuntu/simpoints3')]"
     ],
     "language": "python",
     "metadata": {},
     "outputs": [],
     "prompt_number": 2
    },
    {
     "cell_type": "code",
     "collapsed": false,
     "input": [
      "print \"Number of points:\", len(points)"
     ],
     "language": "python",
     "metadata": {},
     "outputs": [
      {
       "output_type": "stream",
       "stream": "stdout",
       "text": [
        "Number of points: 6\n"
       ]
      }
     ],
     "prompt_number": 3
    },
    {
     "cell_type": "code",
     "collapsed": false,
     "input": [
      "print points"
     ],
     "language": "python",
     "metadata": {},
     "outputs": [
      {
       "output_type": "stream",
       "stream": "stdout",
       "text": [
        "[[1.0, 2.0, 3.0, 1.0, 0.0, 0.0, 1.0], [3.0, 2.0, 1.0, 2.0, 1.0, 0.0, -1.0], [2.0, 3.0, 1.0, 3.0, 0.0, 1.0, 1.0], [1.0, 3.0, 2.0, 2.0, 1.0, 0.0, -1.0], [3.0, 1.0, 2.0, 3.0, 0.0, 1.0, 1.0], [2.0, 1.0, 3.0, 2.0, 1.0, 0.0, -1.0]]\n"
       ]
      }
     ],
     "prompt_number": 4
    },
    {
     "cell_type": "code",
     "collapsed": false,
     "input": [
      "distances = PairwiseDistances(points)\n",
      "distances = ExplicitDistances(distances)\n",
      "rips = Rips(distances)"
     ],
     "language": "python",
     "metadata": {},
     "outputs": [],
     "prompt_number": 5
    },
    {
     "cell_type": "code",
     "collapsed": false,
     "input": [
      "f = Filtration()\n",
      "rips.generate(2, 3, f.append)\n",
      "#fill_alpha_complex(points, f)\n",
      "print \"Number of simplices:\", len(f)"
     ],
     "language": "python",
     "metadata": {},
     "outputs": [
      {
       "output_type": "stream",
       "stream": "stdout",
       "text": [
        "Number of simplices: 21\n"
       ]
      }
     ],
     "prompt_number": 6
    },
    {
     "cell_type": "code",
     "collapsed": false,
     "input": [
      "f.sort(rips.cmp)\n",
      "p = StaticPersistence(f)\n",
      "p.pair_simplices()"
     ],
     "language": "python",
     "metadata": {},
     "outputs": [],
     "prompt_number": 7
    },
    {
     "cell_type": "code",
     "collapsed": false,
     "input": [
      "smap = p.make_simplex_map(f)\n",
      "for i in p:\n",
      "    if i.sign():\n",
      "        birth = smap[i]\n",
      "        if i.unpaired():\n",
      "            print birth.dimension(), birth.data, \"inf\"\n",
      "            continue\n",
      "\n",
      "        death = smap[i.pair()]\n",
      "        print birth.dimension(), birth.data, death.data \n",
      "    else : \n",
      "        print [smap[j] for j in i.cycle]"
     ],
     "language": "python",
     "metadata": {},
     "outputs": [
      {
       "output_type": "stream",
       "stream": "stdout",
       "text": [
        "0 None inf\n",
        "0 None None\n",
        "0 None None\n",
        "0 None None\n",
        "0 None None\n",
        "0 None None\n",
        "[<3>, <1>]\n",
        "[<5>, <1>]\n",
        "[<4>, <2>]\n",
        "1 None None\n",
        "[<3, 5>]\n",
        "[<1>, <0>]\n",
        "1 None None\n",
        "[<0, 5>, <3, 5>]\n",
        "[<2>, <1>]\n",
        "1 None None\n",
        "1 None None\n",
        "1 None None\n",
        "[<2, 3>]\n",
        "[<1, 4>]\n",
        "[<4, 5>, <1, 4>]\n"
       ]
      }
     ],
     "prompt_number": 8
    },
    {
     "cell_type": "code",
     "collapsed": false,
     "input": [],
     "language": "python",
     "metadata": {},
     "outputs": []
    }
   ],
   "metadata": {}
  }
 ]
}