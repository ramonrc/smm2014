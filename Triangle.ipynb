{
 "metadata": {
  "celltoolbar": "Raw Cell Format",
  "name": "",
  "signature": "sha256:220e14e5617b85b99518e714fdb7e3d2532d462bcb04135071dd4dafcb527ae3"
 },
 "nbformat": 3,
 "nbformat_minor": 0,
 "worksheets": [
  {
   "cells": [
    {
     "cell_type": "heading",
     "level": 1,
     "metadata": {
      "slideshow": {
       "slide_type": "slide"
      }
     },
     "source": [
      "Triangle Example"
     ]
    },
    {
     "cell_type": "code",
     "collapsed": false,
     "input": [
      "from dionysus import Simplex, Filtration, StaticPersistence, vertex_cmp, data_cmp, data_dim_cmp\n",
      "complex = [Simplex((0,),        0),                 # A\n",
      "           Simplex((1,),        1),                 # B\n",
      "           Simplex((2,),        2),                 # C\n",
      "           Simplex((0,1),       2.5),               # AB\n",
      "           Simplex((1,2),       2.9),               # BC\n",
      "           Simplex((0,2),       3.5),               # CA\n",
      "           Simplex((0,1,2),     5)]                 # ABC\n",
      "\n",
      "print \"Complex:\", complex"
     ],
     "language": "python",
     "metadata": {},
     "outputs": [
      {
       "output_type": "stream",
       "stream": "stdout",
       "text": [
        "Complex: [<0>, <1>, <2>, <0, 1> 2.500000, <1, 2> 2.900000, <0, 2> 3.500000, <0, 1, 2>]\n"
       ]
      }
     ],
     "prompt_number": 1
    },
    {
     "cell_type": "code",
     "collapsed": false,
     "input": [
      "print \"Vertex: \", sorted(complex, vertex_cmp)\n",
      "print \"Data:   \", sorted(complex, data_cmp)\n",
      "print \"DataDim:\", sorted(complex, data_dim_cmp)"
     ],
     "language": "python",
     "metadata": {},
     "outputs": [
      {
       "output_type": "stream",
       "stream": "stdout",
       "text": [
        "Vertex:  [<0>, <0, 1> 2.500000, <0, 1, 2>, <0, 2> 3.500000, <1>, <1, 2> 2.900000, <2>]\n",
        "Data:    [<0>, <1>, <2>, <0, 1> 2.500000, <1, 2> 2.900000, <0, 2> 3.500000, <0, 1, 2>]\n",
        "DataDim: [<0>, <1>, <2>, <0, 1> 2.500000, <1, 2> 2.900000, <0, 2> 3.500000, <0, 1, 2>]\n"
       ]
      }
     ],
     "prompt_number": 2
    },
    {
     "cell_type": "code",
     "collapsed": false,
     "input": [
      "f = Filtration(complex, data_cmp)\n",
      "print \"Complex in the filtration order:\", ', '.join((str(s) for s in f))"
     ],
     "language": "python",
     "metadata": {},
     "outputs": [
      {
       "output_type": "stream",
       "stream": "stdout",
       "text": [
        "Complex in the filtration order: <0>, <1>, <2>, <0, 1> 2.500000, <1, 2> 2.900000, <0, 2> 3.500000, <0, 1, 2>\n"
       ]
      }
     ],
     "prompt_number": 3
    },
    {
     "cell_type": "code",
     "collapsed": false,
     "input": [
      "p = StaticPersistence(f)\n",
      "print \"Persistence initialized\""
     ],
     "language": "python",
     "metadata": {},
     "outputs": [
      {
       "output_type": "stream",
       "stream": "stdout",
       "text": [
        "Persistence initialized\n"
       ]
      }
     ],
     "prompt_number": 4
    },
    {
     "cell_type": "code",
     "collapsed": false,
     "input": [
      "p.pair_simplices(True)\n",
      "print \"Simplices paired\""
     ],
     "language": "python",
     "metadata": {},
     "outputs": [
      {
       "output_type": "stream",
       "stream": "stdout",
       "text": [
        "Simplices paired\n"
       ]
      }
     ],
     "prompt_number": 5
    },
    {
     "cell_type": "code",
     "collapsed": false,
     "input": [
      "smap = p.make_simplex_map(f)\n",
      "for i in p:\n",
      "    print i.sign(), i.pair().sign()\n",
      "    print \"%s (%d) - %s (%d)\" % (smap[i], i.sign(), smap[i.pair()], i.pair().sign())\n",
      "    print \"Cycle (%d):\" % len(i.cycle), \" + \".join((str(smap[ii]) for ii in i.cycle))"
     ],
     "language": "python",
     "metadata": {},
     "outputs": [
      {
       "output_type": "stream",
       "stream": "stdout",
       "text": [
        "True True\n",
        "<0> (1) - <0> (1)\n",
        "Cycle (0): \n",
        "True False\n",
        "<1> (1) - <0, 1> 2.500000 (0)\n",
        "Cycle (0): \n",
        "True False\n",
        "<2> (1) - <1, 2> 2.900000 (0)\n",
        "Cycle (0): \n",
        "False True\n",
        "<0, 1> 2.500000 (0) - <1> (1)\n",
        "Cycle (2): <1> + <0>\n",
        "False True\n",
        "<1, 2> 2.900000 (0) - <2> (1)\n",
        "Cycle (2): <2> + <1>\n",
        "True False\n",
        "<0, 2> 3.500000 (1) - <0, 1, 2> (0)\n",
        "Cycle (0): \n",
        "False True\n",
        "<0, 1, 2> (0) - <0, 2> 3.500000 (1)\n",
        "Cycle (3): <0, 2> 3.500000 + <1, 2> 2.900000 + <0, 1> 2.500000\n"
       ]
      }
     ],
     "prompt_number": 6
    },
    {
     "cell_type": "code",
     "collapsed": false,
     "input": [
      "print \"Number of unpaired simplices:\", len([i for i in p if i.unpaired()])"
     ],
     "language": "python",
     "metadata": {},
     "outputs": [
      {
       "output_type": "stream",
       "stream": "stdout",
       "text": [
        "Number of unpaired simplices: 1\n"
       ]
      }
     ],
     "prompt_number": 7
    },
    {
     "cell_type": "code",
     "collapsed": false,
     "input": [],
     "language": "python",
     "metadata": {},
     "outputs": []
    }
   ],
   "metadata": {}
  }
 ]
}