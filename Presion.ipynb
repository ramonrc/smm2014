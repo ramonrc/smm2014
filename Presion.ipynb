{
 "metadata": {
  "celltoolbar": "Slideshow",
  "name": "",
  "signature": "sha256:ec98f5dafa45688570902058411b2d69db210d97f39c3e3e18e7abaf6d8d3316"
 },
 "nbformat": 3,
 "nbformat_minor": 0,
 "worksheets": [
  {
   "cells": [
    {
     "cell_type": "code",
     "collapsed": false,
     "input": [
      "from IPython.display import HTML\n",
      "HTML('''<script>\n",
      "code_show=true; \n",
      "function code_toggle() {\n",
      " if (code_show){\n",
      " $('div.input').hide();\n",
      " } else {\n",
      " $('div.input').show();\n",
      " }\n",
      " code_show = !code_show\n",
      "} \n",
      "$( document ).ready(code_toggle);\n",
      "</script>\n",
      "To toggle on/off the raw code, click <a href=\"javascript:code_toggle()\">here</a>.''')\n"
     ],
     "language": "python",
     "metadata": {},
     "outputs": [
      {
       "html": [
        "<script>\n",
        "code_show=true; \n",
        "function code_toggle() {\n",
        " if (code_show){\n",
        " $('div.input').hide();\n",
        " } else {\n",
        " $('div.input').show();\n",
        " }\n",
        " code_show = !code_show\n",
        "} \n",
        "$( document ).ready(code_toggle);\n",
        "</script>\n",
        "To toggle on/off the raw code, click <a href=\"javascript:code_toggle()\">here</a>."
       ],
       "metadata": {},
       "output_type": "pyout",
       "prompt_number": 1,
       "text": [
        "<IPython.core.display.HTML at 0x7f49c97c3290>"
       ]
      }
     ],
     "prompt_number": 1
    },
    {
     "cell_type": "code",
     "collapsed": false,
     "input": [
      "Med=(\n",
      "(-1,133,95,143,94,98),\n",
      "(7,140,90,147,98,79),\n",
      "(14.5,130,89,141,95,79),\n",
      "(18.5,142,100,136,97,85),\n",
      ")\n",
      "import matplotlib.pyplot as plt\n",
      "for h, si, di, sd, dd, p in Med :\n",
      "    plt.title('Sabado 11')\n",
      "    plt.plot(-5.3,150,'b^')\n",
      "    plt.text(-4.5,149,'Izquierdo')\n",
      "    plt.plot(-5.3,156,'gs')\n",
      "    plt.text(-4.5,155,'Derecho')\n",
      "    plt.plot(-5.3,144,'r.')\n",
      "    plt.text(-4.5,143,'Frec')\n",
      "    plt.ylabel('mmHg')\n",
      "    plt.xlabel('Hora del dia')\n",
      "    plt.plot(h,si,'b^')\n",
      "    plt.plot(h,di,'g^')\n",
      "    plt.plot(h,sd,'bs')\n",
      "    plt.plot(h,dd,'gs')\n",
      "    plt.plot(h,p,'r.')\n",
      "    plt.axis([-6, 24, 70, 160])\n",
      "    plt.grid(True)\n",
      "plt.show()"
     ],
     "language": "python",
     "metadata": {
      "slideshow": {
       "slide_type": "slide"
      }
     },
     "outputs": [
      {
       "metadata": {},
       "output_type": "display_data",
       "png": "[encoded data removed]",
       "text": [
        "<matplotlib.figure.Figure at 0x7f49c97d5810>"
       ]
      }
     ],
     "prompt_number": 2
    },
    {
     "cell_type": "code",
     "collapsed": false,
     "input": [
      "print 'Izquierdo', '', 'Derecho'\n",
      "for h, si, di, sd, dd, p in Med : \n",
      "    print si, '/', di, '', sd, '/', dd "
     ],
     "language": "python",
     "metadata": {
      "slideshow": {
       "slide_type": "slide"
      }
     },
     "outputs": [
      {
       "output_type": "stream",
       "stream": "stdout",
       "text": [
        "Izquierdo  Derecho\n",
        "133 / 95  143 / 94\n",
        "140 / 90  147 / 98\n",
        "130 / 89  141 / 95\n",
        "142 / 100  136 / 97\n"
       ]
      }
     ],
     "prompt_number": 3
    }
   ],
   "metadata": {}
  }
 ]
}