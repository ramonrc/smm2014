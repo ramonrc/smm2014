{
 "metadata": {
  "name": "",
  "signature": "sha256:5493deb4b1dad1dfdcdd792bd69ed34c38d11fea61f7485d2377a8908a70f7f4"
 },
 "nbformat": 3,
 "nbformat_minor": 0,
 "worksheets": [
  {
   "cells": [
    {
     "cell_type": "heading",
     "level": 1,
     "metadata": {},
     "source": [
      "Introduccion de los datos de excel en dos listas"
     ]
    },
    {
     "cell_type": "code",
     "collapsed": false,
     "input": [
      "import pandas.io.excel\n",
      "import numpy as np\n",
      "Li=[]   # Lecturas\n",
      "Lo=[]   # Ocupacion\n",
      "for i in np.arange(0, 9, 1):\n",
      "  Li.append(pandas.io.excel.read_excel(\"file://localhost/home/ubuntu/notebook/CopiaGasMensual.xls\", sheetname=i, header=1, skip_rows=[0,1,2,3], parse_cols=\"K:L\", skip_footer=45))\n",
      "for i in np.arange(0, 9, 1):\n",
      "  Lo.append(pandas.io.excel.read_excel(\"file://localhost/home/ubuntu/notebook/CopiaGasMensual.xls\", sheetname=i, header=45, skip_rows=45, parse_cols=\"M\",skip_footer=1))"
     ],
     "language": "python",
     "metadata": {},
     "outputs": [],
     "prompt_number": 1
    },
    {
     "cell_type": "heading",
     "level": 1,
     "metadata": {},
     "source": [
      "Calculo del consumo diario"
     ]
    },
    {
     "cell_type": "code",
     "collapsed": false,
     "input": [
      "for i in np.arange(0, 9, 1):\n",
      "    Lo[i]['CONSUMO']=0\n",
      "    for key in Li[i].keys():\n",
      "        j = 1\n",
      "        while j < Lo[i]['OCUPACION'].count():\n",
      "            Lo[i]['CONSUMO'][j] += Li[i][key][j]-Li[i][key][j-1]\n",
      "            j += 1\n"
     ],
     "language": "python",
     "metadata": {},
     "outputs": [],
     "prompt_number": 2
    },
    {
     "cell_type": "heading",
     "level": 1,
     "metadata": {},
     "source": [
      "Graficacion de ocupacion-consumo"
     ]
    },
    {
     "cell_type": "code",
     "collapsed": false,
     "input": [
      "import matplotlib.pyplot as plt\n",
      "for i in np.arange(0, 9, 1):\n",
      "    plt.plot(Lo[i]['OCUPACION'].values, Lo[i]['CONSUMO'].values, 'ro')\n",
      "    plt.axis([0, 100, 0, 30])\n",
      "plt.show()"
     ],
     "language": "python",
     "metadata": {},
     "outputs": [
      {
       "metadata": {},
       "output_type": "display_data",
       "png": "[encoded data removed]",
       "text": [
        "<matplotlib.figure.Figure at 0x7fc1de3faa50>"
       ]
      }
     ],
     "prompt_number": 3
    }
   ],
   "metadata": {}
  }
 ]
}