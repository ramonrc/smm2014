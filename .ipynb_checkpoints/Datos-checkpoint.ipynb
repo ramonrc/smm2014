{
 "metadata": {
  "name": "",
  "signature": "sha256:f1df360a22475789a4d2e7282ad984eddc3b23897a35a438191d0972f039564a"
 },
 "nbformat": 3,
 "nbformat_minor": 0,
 "worksheets": [
  {
   "cells": [
    {
     "cell_type": "heading",
     "level": 1,
     "metadata": {},
     "source": [
      "Acceso a los datos de encefalogramas"
     ]
    },
    {
     "cell_type": "code",
     "collapsed": false,
     "input": [
      "import scipy.io\n",
      "# Lectura de cada archivo\n",
      "arch1 = scipy.io.loadmat('/data/encef/Dog_5/Dog_5_interictal_segment_0450.mat')"
     ],
     "language": "python",
     "metadata": {},
     "outputs": []
    },
    {
     "cell_type": "code",
     "collapsed": false,
     "input": [
      "# Todos los archivos\n",
      "cd data/encef\n",
      "ls *"
     ],
     "language": "python",
     "metadata": {},
     "outputs": []
    },
    {
     "cell_type": "code",
     "collapsed": false,
     "input": [
      "# los datos en cada archivo\n"
     ],
     "language": "python",
     "metadata": {},
     "outputs": []
    }
   ],
   "metadata": {}
  }
 ]
}