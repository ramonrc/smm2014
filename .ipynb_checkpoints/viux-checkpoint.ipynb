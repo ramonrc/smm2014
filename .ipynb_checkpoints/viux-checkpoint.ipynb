{
 "metadata": {
  "name": "",
  "signature": "sha256:042ab72899c12fa1034fcc9038852b4ba10a41cc012847caa6ae5d783339cb6a"
 },
 "nbformat": 3,
 "nbformat_minor": 0,
 "worksheets": []
}