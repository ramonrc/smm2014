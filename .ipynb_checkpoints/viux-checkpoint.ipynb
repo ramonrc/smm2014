{
 "metadata": {
  "name": "",
  "signature": "sha256:04c9c384ed0522658f1ff13fc28f0dc88215111ae3a326832627f8ebbb8ed747"
 },
 "nbformat": 3,
 "nbformat_minor": 0,
 "worksheets": [
  {
   "cells": [
    {
     "cell_type": "code",
     "collapsed": false,
     "input": [
      "from dionysus import *"
     ],
     "language": "python",
     "metadata": {},
     "outputs": [],
     "prompt_number": 1
    },
    {
     "cell_type": "code",
     "collapsed": false,
     "input": [
      "points = [p for p in points_file('/home/ubuntu/simpoints3')]"
     ],
     "language": "python",
     "metadata": {},
     "outputs": [],
     "prompt_number": 2
    },
    {
     "cell_type": "code",
     "collapsed": false,
     "input": [
      "print \"Number of points:\", len(points)"
     ],
     "language": "python",
     "metadata": {},
     "outputs": [
      {
       "output_type": "stream",
       "stream": "stdout",
       "text": [
        "Number of points: 6\n"
       ]
      }
     ],
     "prompt_number": 3
    },
    {
     "cell_type": "code",
     "collapsed": false,
     "input": [
      "print points"
     ],
     "language": "python",
     "metadata": {},
     "outputs": [
      {
       "output_type": "stream",
       "stream": "stdout",
       "text": [
        "[[1.0, 2.0, 3.0, 1.0, 0.0, 0.0, 1.0], [3.0, 2.0, 1.0, 2.0, 1.0, 0.0, -1.0], [2.0, 3.0, 1.0, 3.0, 0.0, 1.0, 1.0], [1.0, 3.0, 2.0, 2.0, 1.0, 0.0, -1.0], [3.0, 1.0, 2.0, 3.0, 0.0, 1.0, 1.0], [2.0, 1.0, 3.0, 2.0, 1.0, 0.0, -1.0]]\n"
       ]
      }
     ],
     "prompt_number": 4
    },
    {
     "cell_type": "code",
     "collapsed": false,
     "input": [
      "distances = PairwiseDistances(points)\n",
      "distances = ExplicitDistances(distances)\n",
      "rips = Rips(distances)"
     ],
     "language": "python",
     "metadata": {},
     "outputs": [],
     "prompt_number": 5
    },
    {
     "cell_type": "code",
     "collapsed": false,
     "input": [
      "f = Filtration()\n",
      "rips.generate(2, 4, f.append)\n",
      "print \"Number of simplices:\", len(f)"
     ],
     "language": "python",
     "metadata": {},
     "outputs": [
      {
       "output_type": "stream",
       "stream": "stdout",
       "text": [
        "Number of simplices: 41\n"
       ]
      }
     ],
     "prompt_number": 6
    },
    {
     "cell_type": "code",
     "collapsed": false,
     "input": [
      "f.sort(rips.cmp)\n",
      "p = StaticPersistence(f)\n",
      "p.pair_simplices()"
     ],
     "language": "python",
     "metadata": {},
     "outputs": [],
     "prompt_number": 7
    },
    {
     "cell_type": "code",
     "collapsed": false,
     "input": [
      "smap = p.make_simplex_map(f)\n",
      "for i in p:\n",
      "    if i.sign():\n",
      "        birth = smap[i]\n",
      "        if i.unpaired():\n",
      "            print birth.dimension(), birth.data, \"inf\"\n",
      "            continue\n",
      "\n",
      "        death = smap[i.pair()]\n",
      "        print birth.dimension(), birth.data, death.data"
     ],
     "language": "python",
     "metadata": {},
     "outputs": [
      {
       "output_type": "stream",
       "stream": "stdout",
       "text": [
        "0 None inf\n",
        "0 None None\n",
        "0 None None\n",
        "0 None None\n",
        "0 None None\n",
        "0 None None\n",
        "1 None None\n",
        "1 None None\n",
        "1 None None\n",
        "1 None None\n",
        "1 None None\n",
        "1 None None\n",
        "1 None None\n",
        "2 None inf\n",
        "1 None None\n",
        "2 None inf\n",
        "2 None inf\n",
        "2 None inf\n",
        "1 None None\n",
        "1 None None\n",
        "2 None inf\n",
        "2 None inf\n",
        "2 None inf\n",
        "2 None inf\n",
        "2 None inf\n",
        "2 None inf\n"
       ]
      }
     ],
     "prompt_number": 8
    },
    {
     "cell_type": "code",
     "collapsed": false,
     "input": [],
     "language": "python",
     "metadata": {},
     "outputs": []
    }
   ],
   "metadata": {}
  }
 ]
}