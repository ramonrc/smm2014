{
 "metadata": {
  "name": "",
  "signature": "sha256:3593488dce4e398c4aa5a39b08c0435566c525cfc84be5683a6cd5939137628b"
 },
 "nbformat": 3,
 "nbformat_minor": 0,
 "worksheets": [
  {
   "cells": [
    {
     "cell_type": "code",
     "collapsed": false,
     "input": [
      "import scipy.io\n",
      "# Lectura de cada archivo\n",
      "arch1 = scipy.io.loadmat('/data/encef/Dog_5/Dog_5_interictal_segment_0450.mat')\n"
     ],
     "language": "python",
     "metadata": {},
     "outputs": [],
     "prompt_number": 1
    },
    {
     "cell_type": "code",
     "collapsed": false,
     "input": [
      "# Todos los archivos\n",
      "!ls /data/encef"
     ],
     "language": "python",
     "metadata": {},
     "outputs": [
      {
       "output_type": "stream",
       "stream": "stdout",
       "text": [
        "Dog_1  Dog_2  Dog_3  Dog_4.tar.gz  Dog_5  Patient_1  Patient_2.tar.gz\r\n"
       ]
      }
     ],
     "prompt_number": 5
    },
    {
     "cell_type": "code",
     "collapsed": false,
     "input": [
      "# los datos en cada archivo\n",
      "arch1?\n"
     ],
     "language": "python",
     "metadata": {},
     "outputs": [],
     "prompt_number": 2
    },
    {
     "cell_type": "code",
     "collapsed": false,
     "input": [
      "datos = arch1[arch1.keys()[0]]\n",
      "datos?\n"
     ],
     "language": "python",
     "metadata": {},
     "outputs": [],
     "prompt_number": 3
    },
    {
     "cell_type": "code",
     "collapsed": false,
     "input": [
      "from dionysus import Simplex, Filtration, StaticPersistence, vertex_cmp, data_cmp, data_dim_cmp\n",
      "complex = [Simplex((0,),        0),                 # A\n",
      "           Simplex((1,),        1),                 # B\n",
      "           Simplex((2,),        2),                 # C\n",
      "           Simplex((0,1),       2.5),               # AB\n",
      "           Simplex((1,2),       2.9),               # BC\n",
      "           Simplex((0,2),       3.5),               # CA\n",
      "           Simplex((0,1,2),     5)]                 # ABC\n",
      "\n",
      "print \"Complex:\", complex\n"
     ],
     "language": "python",
     "metadata": {},
     "outputs": [
      {
       "output_type": "stream",
       "stream": "stdout",
       "text": [
        "Complex: [<0>, <1>, <2>, <0, 1> 2.500000, <1, 2> 2.900000, <0, 2> 3.500000, <0, 1, 2>]\n"
       ]
      }
     ],
     "prompt_number": 4
    },
    {
     "cell_type": "code",
     "collapsed": false,
     "input": [
      "print \"Vertex: \", sorted(complex, vertex_cmp)\n",
      "print \"Data:   \", sorted(complex, data_cmp)\n",
      "print \"DataDim:\", sorted(complex, data_dim_cmp)\n"
     ],
     "language": "python",
     "metadata": {},
     "outputs": [
      {
       "output_type": "stream",
       "stream": "stdout",
       "text": [
        "Vertex:  [<0>, <0, 1> 2.500000, <0, 1, 2>, <0, 2> 3.500000, <1>, <1, 2> 2.900000, <2>]\n",
        "Data:    [<0>, <1>, <2>, <0, 1> 2.500000, <1, 2> 2.900000, <0, 2> 3.500000, <0, 1, 2>]\n",
        "DataDim: [<0>, <1>, <2>, <0, 1> 2.500000, <1, 2> 2.900000, <0, 2> 3.500000, <0, 1, 2>]\n"
       ]
      }
     ],
     "prompt_number": 5
    },
    {
     "cell_type": "code",
     "collapsed": false,
     "input": [
      "f = Filtration(complex, data_cmp)\n",
      "print \"Complex in the filtration order:\", ', '.join((str(s) for s in f))"
     ],
     "language": "python",
     "metadata": {},
     "outputs": [
      {
       "output_type": "stream",
       "stream": "stdout",
       "text": [
        "Complex in the filtration order: <0>, <1>, <2>, <0, 1> 2.500000, <1, 2> 2.900000, <0, 2> 3.500000, <0, 1, 2>\n"
       ]
      }
     ],
     "prompt_number": 6
    },
    {
     "cell_type": "code",
     "collapsed": false,
     "input": [
      "p = StaticPersistence(f)\n",
      "print \"Persistence initialized\""
     ],
     "language": "python",
     "metadata": {},
     "outputs": [
      {
       "output_type": "stream",
       "stream": "stdout",
       "text": [
        "Persistence initialized\n"
       ]
      }
     ],
     "prompt_number": 7
    },
    {
     "cell_type": "code",
     "collapsed": false,
     "input": [
      "p.pair_simplices(True)\n",
      "print \"Simplices paired\"\n"
     ],
     "language": "python",
     "metadata": {},
     "outputs": [
      {
       "output_type": "stream",
       "stream": "stdout",
       "text": [
        "Simplices paired\n"
       ]
      }
     ],
     "prompt_number": 8
    },
    {
     "cell_type": "code",
     "collapsed": false,
     "input": [
      "smap = p.make_simplex_map(f)\n",
      "for i in p:\n",
      "    print i.sign(), i.pair().sign()\n",
      "    print \"%s (%d) - %s (%d)\" % (smap[i], i.sign(), smap[i.pair()], i.pair().sign())\n",
      "    print \"Cycle (%d):\" % len(i.cycle), \" + \".join((str(smap[ii]) for ii in i.cycle))\n",
      "    "
     ],
     "language": "python",
     "metadata": {},
     "outputs": [
      {
       "output_type": "stream",
       "stream": "stdout",
       "text": [
        "True True\n",
        "<0> (1) - <0> (1)\n",
        "Cycle (0): \n",
        "True False\n",
        "<1> (1) - <0, 1> 2.500000 (0)\n",
        "Cycle (0): \n",
        "True False\n",
        "<2> (1) - <1, 2> 2.900000 (0)\n",
        "Cycle (0): \n",
        "False True\n",
        "<0, 1> 2.500000 (0) - <1> (1)\n",
        "Cycle (2): <1> + <0>\n",
        "False True\n",
        "<1, 2> 2.900000 (0) - <2> (1)\n",
        "Cycle (2): <2> + <1>\n",
        "True False\n",
        "<0, 2> 3.500000 (1) - <0, 1, 2> (0)\n",
        "Cycle (0): \n",
        "False True\n",
        "<0, 1, 2> (0) - <0, 2> 3.500000 (1)\n",
        "Cycle (3): <0, 2> 3.500000 + <1, 2> 2.900000 + <0, 1> 2.500000\n"
       ]
      }
     ],
     "prompt_number": 9
    },
    {
     "cell_type": "code",
     "collapsed": false,
     "input": [
      "print \"Number of unpaired simplices:\", len([i for i in p if i.unpaired()])"
     ],
     "language": "python",
     "metadata": {},
     "outputs": [
      {
       "output_type": "stream",
       "stream": "stdout",
       "text": [
        "Number of unpaired simplices: 1\n"
       ]
      }
     ],
     "prompt_number": 10
    },
    {
     "cell_type": "code",
     "collapsed": false,
     "input": [],
     "language": "python",
     "metadata": {},
     "outputs": []
    }
   ],
   "metadata": {}
  }
 ]
}