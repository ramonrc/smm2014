{
 "metadata": {
  "name": "",
  "signature": "sha256:7061c5ff0489df3658e7931c9e85c0aca88cadb3228d3fcfdcd6f58ecf8dc407"
 },
 "nbformat": 3,
 "nbformat_minor": 0,
 "worksheets": [
  {
   "cells": [
    {
     "cell_type": "code",
     "collapsed": false,
     "input": [
      "import scipy.io\n",
      "# Lectura de cada archivo\n",
      "arch1 = scipy.io.loadmat('/data/encef/Dog_5/Dog_5_interictal_segment_0450.mat')\n"
     ],
     "language": "python",
     "metadata": {},
     "outputs": []
    },
    {
     "cell_type": "code",
     "collapsed": false,
     "input": [
      "# Todos los archivos\n",
      "!ls /data/encef"
     ],
     "language": "python",
     "metadata": {},
     "outputs": [
      {
       "output_type": "stream",
       "stream": "stdout",
       "text": [
        "Dog_1  Dog_2  Dog_3  Dog_4.tar.gz  Dog_5  Patient_1  Patient_2.tar.gz\r\n"
       ]
      }
     ],
     "prompt_number": 5
    },
    {
     "cell_type": "code",
     "collapsed": false,
     "input": [],
     "language": "python",
     "metadata": {},
     "outputs": []
    }
   ],
   "metadata": {}
  }
 ]
}